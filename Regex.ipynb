{
  "nbformat": 4,
  "nbformat_minor": 0,
  "metadata": {
    "colab": {
      "provenance": [],
      "authorship_tag": "ABX9TyNbK2zq1tHmhVHAxWNlLy6w",
      "include_colab_link": true
    },
    "kernelspec": {
      "name": "python3",
      "display_name": "Python 3"
    },
    "language_info": {
      "name": "python"
    }
  },
  "cells": [
    {
      "cell_type": "markdown",
      "metadata": {
        "id": "view-in-github",
        "colab_type": "text"
      },
      "source": [
        "<a href=\"https://colab.research.google.com/github/ViniciusNarcisoFernandes/Regex_Python/blob/main/Regex.ipynb\" target=\"_parent\"><img src=\"https://colab.research.google.com/assets/colab-badge.svg\" alt=\"Open In Colab\"/></a>"
      ]
    },
    {
      "cell_type": "code",
      "execution_count": null,
      "metadata": {
        "id": "BWZ7wmtdbWZ4"
      },
      "outputs": [],
      "source": [
        "import re"
      ]
    },
    {
      "cell_type": "markdown",
      "source": [
        "**Caracteres**"
      ],
      "metadata": {
        "id": "-b9_0S-Odru9"
      }
    },
    {
      "cell_type": "code",
      "source": [
        "# . - Entende qualquer valor exceto uma nova linha\n",
        "# \\. - Para buscar o caracter \".\"\n",
        "\n",
        "texto = '''arira aruta arbra'''\n",
        "t = re.compile('ar.ra')\n",
        "check = t.findall(texto)\n",
        "print(check)"
      ],
      "metadata": {
        "colab": {
          "base_uri": "https://localhost:8080/"
        },
        "id": "msMf8MnccVb9",
        "outputId": "32a5d16f-1a1f-4ffa-9c80-17a7fff02da6"
      },
      "execution_count": null,
      "outputs": [
        {
          "output_type": "stream",
          "name": "stdout",
          "text": [
            "['arira', 'arbra']\n"
          ]
        }
      ]
    },
    {
      "cell_type": "code",
      "source": [
        "# ^ - Irá testar o início da string\n",
        "# [^] - Irá considerar todos os caracteres EXCETO o indicado\n",
        "\n",
        "texto = \"aaradkamkdaopdkoakdoakdokaa\"\n",
        "p1 = re.compile('^a')\n",
        "p2 = re.compile('[^a]')\n",
        "check1= p1.findall(texto)\n",
        "check2= p2.findall(texto)\n",
        "print(check1,check2)"
      ],
      "metadata": {
        "colab": {
          "base_uri": "https://localhost:8080/"
        },
        "id": "LKUQLQtVcVZS",
        "outputId": "7af07ac3-7526-4504-aa82-0f8aeffe7c24"
      },
      "execution_count": null,
      "outputs": [
        {
          "output_type": "stream",
          "name": "stdout",
          "text": [
            "['a'] ['r', 'd', 'k', 'm', 'k', 'd', 'o', 'p', 'd', 'k', 'o', 'k', 'd', 'o', 'k', 'd', 'o', 'k']\n"
          ]
        }
      ]
    },
    {
      "cell_type": "code",
      "source": [
        "# \\d - Qualquer caracter que SEJA um algoritmo de 0 a 9\n",
        "# \\D - Qualquer caracter que NÂO SEJA um algoritmo de 0 a 9\n",
        "\n",
        "texto = \"arara1992\"\n",
        "p1 = re.compile(r'\\d')\n",
        "p2 = re.compile(r'\\D')\n",
        "check1 = p1.findall(texto)\n",
        "check2 = p2.findall(texto)\n",
        "print(check1,check2)"
      ],
      "metadata": {
        "colab": {
          "base_uri": "https://localhost:8080/"
        },
        "id": "JXO-IgIScVea",
        "outputId": "3d07c000-5e97-45ce-f7f9-7e3ffafd99d0"
      },
      "execution_count": null,
      "outputs": [
        {
          "output_type": "stream",
          "name": "stdout",
          "text": [
            "['1', '9', '9', '2'] ['a', 'r', 'a', 'r', 'a']\n"
          ]
        }
      ]
    },
    {
      "cell_type": "code",
      "source": [
        "# \\s - Qualquer caracter que SEJA vazio\n",
        "# \\S - Qualquer caracter que NÂO SEJA vazio\n",
        "\n",
        "texto = '''\n",
        "arara\n",
        "1992  '''\n",
        "p1 = re.compile(r'\\s')\n",
        "p2 = re.compile(r'\\S')\n",
        "check1 = p1.findall(texto)\n",
        "check2 = p2.findall(texto)\n",
        "print(check1)\n",
        "print(check2)"
      ],
      "metadata": {
        "colab": {
          "base_uri": "https://localhost:8080/"
        },
        "id": "n38DtowwcVWv",
        "outputId": "7d728d0e-0c76-495d-9072-99c5cb747188"
      },
      "execution_count": null,
      "outputs": [
        {
          "output_type": "stream",
          "name": "stdout",
          "text": [
            "[' ', '\\n', ' ', '\\n', ' ', ' ']\n",
            "['a', 'r', 'a', 'r', 'a', '1', '9', '9', '2']\n"
          ]
        }
      ]
    },
    {
      "cell_type": "code",
      "source": [
        "# \\w - Qualquer caracter que SEJA alfanumérico\n",
        "# \\W - Qualquer caracter que NÃO SEJA Alfanumérico\n",
        "\n",
        "texto = '''\n",
        "arara@ 1992_  '''\n",
        "p1 = re.compile(r'\\w')\n",
        "p2 = re.compile(r'\\W')\n",
        "check1 = p1.findall(texto)\n",
        "check2 = p2.findall(texto)\n",
        "print(check1)\n",
        "print(check2)"
      ],
      "metadata": {
        "colab": {
          "base_uri": "https://localhost:8080/"
        },
        "id": "UYMlszAKcVT4",
        "outputId": "a15c81dc-b041-4f57-d654-ca9b8f7d5f11"
      },
      "execution_count": null,
      "outputs": [
        {
          "output_type": "stream",
          "name": "stdout",
          "text": [
            "['a', 'r', 'a', 'r', 'a', '1', '9', '9', '2', '_']\n",
            "[' ', '\\n', '@', ' ', ' ', ' ']\n"
          ]
        }
      ]
    },
    {
      "cell_type": "markdown",
      "source": [
        "**Métodos para checagem:**"
      ],
      "metadata": {
        "id": "f4RV-Bnwivlu"
      }
    },
    {
      "cell_type": "code",
      "source": [
        "texto = \"arara\"\n",
        "p1 = re.compile(r'r')\n",
        "check_findall = p1.findall(texto)\n",
        "check_match = p1.match(texto) # Consigo saber a posição da lista\n",
        "check_search = p1.search(texto)\n",
        "check_finditer = p1.finditer(texto)\n",
        "print(check_findall)\n",
        "print(check_match)\n",
        "print(texto[0:2])\n",
        "print(check_search)\n",
        "print(check_finditer)"
      ],
      "metadata": {
        "colab": {
          "base_uri": "https://localhost:8080/"
        },
        "id": "JyAPqy6PcVIv",
        "outputId": "1c5e2a0e-a284-455a-ddce-4e8a7a4674da"
      },
      "execution_count": null,
      "outputs": [
        {
          "output_type": "stream",
          "name": "stdout",
          "text": [
            "['r', 'r']\n",
            "None\n",
            "ar\n",
            "<re.Match object; span=(1, 2), match='r'>\n",
            "<callable_iterator object at 0x7866be30d1b0>\n"
          ]
        }
      ]
    },
    {
      "cell_type": "code",
      "source": [
        "correspondencias = check_finditer\n",
        "for correspondencia in correspondencias:\n",
        "  print(correspondencia)"
      ],
      "metadata": {
        "id": "8OMOOBxncVGE",
        "colab": {
          "base_uri": "https://localhost:8080/"
        },
        "outputId": "7d5d945c-a27b-46ac-a02c-2597dd9403b1"
      },
      "execution_count": null,
      "outputs": [
        {
          "output_type": "stream",
          "name": "stdout",
          "text": [
            "<re.Match object; span=(1, 2), match='r'>\n",
            "<re.Match object; span=(3, 4), match='r'>\n"
          ]
        }
      ]
    },
    {
      "cell_type": "markdown",
      "source": [
        "**Estruturas**"
      ],
      "metadata": {
        "id": "aoQo1I8fi8vM"
      }
    },
    {
      "cell_type": "code",
      "source": [
        "texto = ''' Arara 1992 '''\n",
        "\n",
        "p = re.compile(r'[a-zA-Z0-9]')\n",
        "print(p.findall(texto))\n",
        "print(p.finditer(texto))\n",
        "correspondencias = p.finditer(texto)\n",
        "\n",
        "print();\n",
        "\n",
        "for correspondencia in correspondencias:\n",
        "  print(correspondencia)\n",
        "\n"
      ],
      "metadata": {
        "id": "WJxPUFSFcVDD",
        "colab": {
          "base_uri": "https://localhost:8080/"
        },
        "outputId": "41d9c9a8-64a1-4510-af69-cb0715a81aaa"
      },
      "execution_count": null,
      "outputs": [
        {
          "output_type": "stream",
          "name": "stdout",
          "text": [
            "['A', 'r', 'a', 'r', 'a', '1', '9', '9', '2']\n",
            "<callable_iterator object at 0x78668bf2a080>\n",
            "\n",
            "<re.Match object; span=(1, 2), match='A'>\n",
            "<re.Match object; span=(2, 3), match='r'>\n",
            "<re.Match object; span=(3, 4), match='a'>\n",
            "<re.Match object; span=(4, 5), match='r'>\n",
            "<re.Match object; span=(5, 6), match='a'>\n",
            "<re.Match object; span=(7, 8), match='1'>\n",
            "<re.Match object; span=(8, 9), match='9'>\n",
            "<re.Match object; span=(9, 10), match='9'>\n",
            "<re.Match object; span=(10, 11), match='2'>\n"
          ]
        }
      ]
    },
    {
      "cell_type": "code",
      "source": [
        "texto = '''\n",
        "Arara 1992\n",
        "'''\n",
        "\n",
        "p = re.compile(r'[a-zA-z] [0-9]')\n",
        "correspondencias = p.finditer(texto)\n",
        "for correspondencia in correspondencias:\n",
        "  print(correspondencia)"
      ],
      "metadata": {
        "id": "lS_x2sjCcU_7",
        "colab": {
          "base_uri": "https://localhost:8080/"
        },
        "outputId": "a6961a87-abe7-4568-dc96-7eae6dd27fc9"
      },
      "execution_count": null,
      "outputs": [
        {
          "output_type": "stream",
          "name": "stdout",
          "text": [
            "<re.Match object; span=(6, 9), match='a 1'>\n"
          ]
        }
      ]
    },
    {
      "cell_type": "code",
      "source": [
        "texto = '''\n",
        "Arara 1992\n",
        "'''\n",
        "\n",
        "p = re.compile(r'[a-zA-z]+ [0-9]+')\n",
        "correspondencias = p.finditer(texto)\n",
        "for correspondencia in correspondencias:\n",
        "  print(correspondencia)"
      ],
      "metadata": {
        "id": "asCm10IccU3k",
        "colab": {
          "base_uri": "https://localhost:8080/"
        },
        "outputId": "313001cc-0922-46a8-b8ae-b4797ebc921c"
      },
      "execution_count": null,
      "outputs": [
        {
          "output_type": "stream",
          "name": "stdout",
          "text": [
            "<re.Match object; span=(2, 12), match='Arara 1992'>\n"
          ]
        }
      ]
    },
    {
      "cell_type": "markdown",
      "source": [
        "**Quantificadores**"
      ],
      "metadata": {
        "id": "oIIoBXXp1G-J"
      }
    },
    {
      "cell_type": "code",
      "source": [
        "# * - 0 ou mais\n",
        "texto = '''\n",
        "Arara\n",
        "'''\n",
        "\n",
        "p = re.compile(r'[ra]*')\n",
        "correspondencias = p.finditer(texto)\n",
        "for correspondencia in correspondencias:\n",
        "  print(correspondencia)"
      ],
      "metadata": {
        "id": "TklzJSPjcUyK",
        "colab": {
          "base_uri": "https://localhost:8080/"
        },
        "outputId": "04fba72a-ec90-410b-c36a-fab3a1b2f737"
      },
      "execution_count": null,
      "outputs": [
        {
          "output_type": "stream",
          "name": "stdout",
          "text": [
            "<re.Match object; span=(0, 0), match=''>\n",
            "<re.Match object; span=(1, 1), match=''>\n",
            "<re.Match object; span=(2, 2), match=''>\n",
            "<re.Match object; span=(3, 7), match='rara'>\n",
            "<re.Match object; span=(7, 7), match=''>\n",
            "<re.Match object; span=(8, 8), match=''>\n"
          ]
        }
      ]
    },
    {
      "cell_type": "code",
      "source": [
        "# + - 1 ou mais\n",
        "texto = '''\n",
        "Arara\n",
        "'''\n",
        "\n",
        "p = re.compile(r'[ra]+')\n",
        "correspondencias = p.finditer(texto)\n",
        "for correspondencia in correspondencias:\n",
        "  print(correspondencia)"
      ],
      "metadata": {
        "id": "llu2k__xcUtm",
        "colab": {
          "base_uri": "https://localhost:8080/"
        },
        "outputId": "fbb3c262-cbc5-4f47-b9e7-e713b5dceea7"
      },
      "execution_count": null,
      "outputs": [
        {
          "output_type": "stream",
          "name": "stdout",
          "text": [
            "<re.Match object; span=(3, 7), match='rara'>\n"
          ]
        }
      ]
    },
    {
      "cell_type": "code",
      "source": [
        "# ? - 0 ou um\n",
        "texto = '''\n",
        "Arara\n",
        "'''\n",
        "\n",
        "p = re.compile(r'[r]?[a]?')\n",
        "\n",
        "correspondencias = p.finditer(texto)\n",
        "for correspondencia in correspondencias:\n",
        "  print(correspondencia)"
      ],
      "metadata": {
        "id": "7zA6_U9LcUqr",
        "colab": {
          "base_uri": "https://localhost:8080/"
        },
        "outputId": "f6d051fd-07be-44e7-e91d-779181bbcdbb"
      },
      "execution_count": null,
      "outputs": [
        {
          "output_type": "stream",
          "name": "stdout",
          "text": [
            "<re.Match object; span=(0, 0), match=''>\n",
            "<re.Match object; span=(1, 1), match=''>\n",
            "<re.Match object; span=(2, 2), match=''>\n",
            "<re.Match object; span=(3, 5), match='ra'>\n",
            "<re.Match object; span=(5, 7), match='ra'>\n",
            "<re.Match object; span=(7, 7), match=''>\n",
            "<re.Match object; span=(8, 8), match=''>\n"
          ]
        }
      ]
    },
    {
      "cell_type": "code",
      "source": [
        "#{3} - número exato de repetições\n",
        "texto = '''\n",
        "Arara\n",
        "'''\n",
        "\n",
        "p = re.compile(r'[ra]{2}')\n",
        "correspondencias = p.finditer(texto)\n",
        "for correspondencia in correspondencias:\n",
        "  print(correspondencia)"
      ],
      "metadata": {
        "id": "eFZ5fNgLcUn_",
        "colab": {
          "base_uri": "https://localhost:8080/"
        },
        "outputId": "86ea12fb-27c1-4980-8b23-1c353de43d04"
      },
      "execution_count": null,
      "outputs": [
        {
          "output_type": "stream",
          "name": "stdout",
          "text": [
            "<re.Match object; span=(3, 5), match='ra'>\n",
            "<re.Match object; span=(5, 7), match='ra'>\n"
          ]
        }
      ]
    },
    {
      "cell_type": "code",
      "source": [
        "# {3,4} - de 3 a 4 min e max (Limitador)\n",
        "\n",
        "texto = '''\n",
        "Arara\n",
        "'''\n",
        "\n",
        "p = re.compile(r'[ra]{1,2}')\n",
        "correspondencias = p.finditer(texto)\n",
        "for correspondencia in correspondencias:\n",
        "  print(correspondencia)\n"
      ],
      "metadata": {
        "id": "kzEV5rtocUll",
        "colab": {
          "base_uri": "https://localhost:8080/"
        },
        "outputId": "677fe4b0-6217-4d49-e2b2-96d4d51da865"
      },
      "execution_count": null,
      "outputs": [
        {
          "output_type": "stream",
          "name": "stdout",
          "text": [
            "<re.Match object; span=(3, 5), match='ra'>\n",
            "<re.Match object; span=(5, 7), match='ra'>\n"
          ]
        }
      ]
    },
    {
      "cell_type": "markdown",
      "source": [
        "**()Grupos**"
      ],
      "metadata": {
        "id": "RQDSyEa95ib7"
      }
    },
    {
      "cell_type": "code",
      "source": [
        "texto = '''\n",
        "Arara 1992\n",
        "arara 1993\n",
        "'''\n",
        "\n",
        "p = re.compile(r'(A|a)?[a-z]{4} [0-9]+')\n",
        "correspondencias = p.finditer(texto)\n",
        "for correspondencia in correspondencias:\n",
        "  print(correspondencia)\n",
        "  print(correspondencia.group(0))\n",
        "  print(correspondencia.group(1))\n"
      ],
      "metadata": {
        "id": "3fs1BtxEcUjc",
        "colab": {
          "base_uri": "https://localhost:8080/"
        },
        "outputId": "3301b030-f3a9-485c-e2fc-2f6f0242847f"
      },
      "execution_count": null,
      "outputs": [
        {
          "output_type": "stream",
          "name": "stdout",
          "text": [
            "<re.Match object; span=(1, 11), match='Arara 1992'>\n",
            "Arara 1992\n",
            "A\n",
            "<re.Match object; span=(13, 23), match='arara 1993'>\n",
            "arara 1993\n",
            "a\n"
          ]
        }
      ]
    },
    {
      "cell_type": "markdown",
      "source": [
        "**TEXTOS**"
      ],
      "metadata": {
        "id": "SA8Ifxgd50W3"
      }
    },
    {
      "cell_type": "code",
      "source": [
        "texto1 = '''\n",
        "Sites diversos\n",
        "https://google.com/\n",
        "https://www.gov.br/\n",
        "https://www.kaiamba.com.br/\n",
        "http://www.faetec.rj.gov.br/\n",
        "'''\n",
        "\n",
        "p = re.compile(r'https?://(www\\.)?([a-zA-Z0-9]+\\.)+(com.br|gov.br|com)')\n",
        "correspondencias = p.finditer(texto1)\n",
        "for correspondencia in correspondencias:\n",
        "  print(correspondencia)\n",
        "  print(correspondencia.group(0))\n",
        "  print(correspondencia.group(1))\n",
        "  print(correspondencia.group(2))\n",
        "  print(correspondencia.group(3))"
      ],
      "metadata": {
        "id": "wnlQTjSUcUhG",
        "colab": {
          "base_uri": "https://localhost:8080/"
        },
        "outputId": "82ad6021-b22e-4163-b917-8e078d95c3d0"
      },
      "execution_count": null,
      "outputs": [
        {
          "output_type": "stream",
          "name": "stdout",
          "text": [
            "<re.Match object; span=(16, 34), match='https://google.com'>\n",
            "https://google.com\n",
            "None\n",
            "google.\n",
            "com\n",
            "<re.Match object; span=(36, 54), match='https://www.gov.br'>\n",
            "https://www.gov.br\n",
            "None\n",
            "www.\n",
            "gov.br\n",
            "<re.Match object; span=(56, 82), match='https://www.kaiamba.com.br'>\n",
            "https://www.kaiamba.com.br\n",
            "www.\n",
            "kaiamba.\n",
            "com.br\n",
            "<re.Match object; span=(84, 111), match='http://www.faetec.rj.gov.br'>\n",
            "http://www.faetec.rj.gov.br\n",
            "www.\n",
            "rj.\n",
            "gov.br\n"
          ]
        }
      ]
    },
    {
      "cell_type": "code",
      "source": [
        "emails = '''\n",
        "Vários e-mails:\n",
        "daniel@dominio.com\n",
        "daniel.candiotto@dominio.com.br\n",
        "DANIEL@dominio.br\n",
        "DANIEL.CANDIOTTO@gov.br\n",
        "danielcandiotto@dominio1.co\n",
        "daniel_candiotto_l@dominio-dominio.net\n",
        "'''"
      ],
      "metadata": {
        "id": "ZWwn4QrJcUcJ"
      },
      "execution_count": null,
      "outputs": []
    },
    {
      "cell_type": "code",
      "source": [
        "p = re.compile(r'[a-zA-Z0-9_.+-]+@[a-zA-Z0-9-]+\\.[a-zA-Z0-9]+')\n",
        "correspondencias = p.finditer(emails)\n",
        "for correspondencia in correspondencias:\n",
        "  print(correspondencia)"
      ],
      "metadata": {
        "id": "z6UD8pW0cUZZ",
        "colab": {
          "base_uri": "https://localhost:8080/"
        },
        "outputId": "ebd9e206-4009-4787-ee36-f2a03f2c0b28"
      },
      "execution_count": null,
      "outputs": [
        {
          "output_type": "stream",
          "name": "stdout",
          "text": [
            "<re.Match object; span=(17, 35), match='daniel@dominio.com'>\n",
            "<re.Match object; span=(36, 64), match='daniel.candiotto@dominio.com'>\n",
            "<re.Match object; span=(68, 85), match='DANIEL@dominio.br'>\n",
            "<re.Match object; span=(86, 109), match='DANIEL.CANDIOTTO@gov.br'>\n",
            "<re.Match object; span=(110, 137), match='danielcandiotto@dominio1.co'>\n",
            "<re.Match object; span=(138, 176), match='daniel_candiotto_l@dominio-dominio.net'>\n"
          ]
        }
      ]
    }
  ]
}